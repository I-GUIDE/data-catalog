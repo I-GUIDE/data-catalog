{
 "cells": [
  {
   "cell_type": "code",
   "execution_count": 2,
   "id": "03536f2d-5b65-4349-9aeb-b703ca75c147",
   "metadata": {},
   "outputs": [],
   "source": [
    "import pyproj\n",
    "import geopandas as gpd"
   ]
  },
  {
   "cell_type": "markdown",
   "id": "7f7f58f4-93a4-454c-b662-d95776ab6029",
   "metadata": {},
   "source": [
    "### Define Function"
   ]
  },
  {
   "cell_type": "code",
   "execution_count": 8,
   "id": "47d43eea-f6ad-4527-ba6e-cc746ae90504",
   "metadata": {},
   "outputs": [],
   "source": [
    "def read_shape(gdf):\n",
    "    '''\n",
    "    read the shape of dataframe to identify the \n",
    "    count of features (rows) and fields (columns).\n",
    "    '''\n",
    "    features=gdf.shape[0]\n",
    "    fields=gdf.shape[1]\n",
    "    return features, fields\n",
    "\n",
    "\n",
    "def field_name_type(gdf):\n",
    "    '''\n",
    "    return the name and type of each field (column)\n",
    "    '''\n",
    "    return gdf.columns, gdf.dtypes\n",
    "\n",
    "\n",
    "def bounding_box(gdf):\n",
    "    '''\n",
    "    return the bounding box information\n",
    "    '''\n",
    "    return gdf.total_bounds\n",
    "\n",
    "\n",
    "def get_projected_coordinate_system(gdf):\n",
    "    '''\n",
    "    retrieve required information for defining the projected \n",
    "    coordinate system\n",
    "    '''\n",
    "    import re\n",
    "    name = gdf.crs.name\n",
    "    datum = gdf.crs.to_dict()['datum']\n",
    "    units = gdf.crs.to_dict()['units']\n",
    "    wkt = gdf.crs.to_wkt()\n",
    "    cleaned_crs_string = re.sub(r\"\\[\\s*([^\\[\\]]+)\\s*\\]\", r\"\\1\", wkt) \n",
    "    cleaned_crs_string = cleaned_crs_string.replace('\"', \"'\")\n",
    "    return name, datum, units, cleaned_crs_string\n",
    "    \n",
    "    \n",
    "def get_geographic_coordinate_system(gdf):   \n",
    "    '''\n",
    "    retrieve required information for defining the geographical \n",
    "    coordinate system\n",
    "    '''\n",
    "    import sqlite3\n",
    "    # Open a connection to the GeoPackage using sqlite3\n",
    "    conn = sqlite3.connect('./nextgen_18.gpkg')\n",
    "    # Query the metadata table for the GCS information\n",
    "    query = \"SELECT srs_name, srs_id FROM gpkg_spatial_ref_sys WHERE organization = 'EPSG' AND definition LIKE 'GEOGCS%'\"\n",
    "    gcs_data = conn.execute(query).fetchall()\n",
    "    # Print the retrieved GCS data\n",
    "    for row in gcs_data:\n",
    "        return row     "
   ]
  },
  {
   "cell_type": "markdown",
   "id": "889cb810-eb46-449c-9bff-594230243dc5",
   "metadata": {},
   "source": [
    "### Read the Shapefile"
   ]
  },
  {
   "cell_type": "code",
   "execution_count": 64,
   "id": "5689a666-db12-416f-862d-f419ab9abcf8",
   "metadata": {},
   "outputs": [],
   "source": [
    "# the example shapefile can be found at https://www.hydroshare.org/resource/fed970c19b9c41928f2591adf5b64dd1/\n",
    "gdf = gpd.read_file('logan-watershed.shp')"
   ]
  },
  {
   "cell_type": "markdown",
   "id": "d87865bb-675a-4655-9c66-44b33555c575",
   "metadata": {},
   "source": [
    "### Retrieve Metadata"
   ]
  },
  {
   "cell_type": "code",
   "execution_count": 9,
   "id": "15bbed1f-274f-4536-a81d-c369ddb77671",
   "metadata": {},
   "outputs": [
    {
     "name": "stdout",
     "output_type": "stream",
     "text": [
      "7 10\n"
     ]
    }
   ],
   "source": [
    "features, fields = read_shape(gdf)\n",
    "print(features, fields)"
   ]
  },
  {
   "cell_type": "code",
   "execution_count": 33,
   "id": "70bd454e-1461-4c7b-992e-3198e60289e4",
   "metadata": {},
   "outputs": [
    {
     "name": "stdout",
     "output_type": "stream",
     "text": [
      "objectid       float64\n",
      "areaacres      float64\n",
      "areasqkm       float64\n",
      "states          object\n",
      "huc12           object\n",
      "name            object\n",
      "tohuc           object\n",
      "shape_Leng     float64\n",
      "Shape_Area     float64\n",
      "geometry      geometry\n",
      "dtype: object\n"
     ]
    }
   ],
   "source": [
    "colnames, dtypes = field_name_type(gdf)\n",
    "print(dtypes)"
   ]
  },
  {
   "cell_type": "code",
   "execution_count": 24,
   "id": "f95f9739-5fae-452c-a341-59a7bd5d0577",
   "metadata": {},
   "outputs": [
    {
     "name": "stdout",
     "output_type": "stream",
     "text": [
      "[-1229614.57918111   303353.62119147 -1200859.26639075   346695.94508645]\n"
     ]
    }
   ],
   "source": [
    "print(gdf.total_bounds)\n",
    "# (min_x, min_y, max_x, max_y)"
   ]
  },
  {
   "cell_type": "code",
   "execution_count": 63,
   "id": "94ebbc83-6101-47d3-b069-31363e1eed51",
   "metadata": {},
   "outputs": [
    {
     "name": "stdout",
     "output_type": "stream",
     "text": [
      "North_America_Albers_Equal_Area_Conic\n",
      "NAD83\n",
      "m\n",
      "PROJCRS['North_America_Albers_Equal_Area_Conic',BASEGEOGCRS['NAD83',DATUM['North American Datum 1983',ELLIPSOID['GRS 1980',6378137,298.257222101,LENGTHUNIT'metre',1]],PRIMEM['Greenwich',0,ANGLEUNIT'degree',0.0174532925199433],ID'EPSG',4269],CONVERSION['unnamed',METHOD['Albers Equal Area',ID'EPSG',9822],PARAMETER['Latitude of false origin',40,ANGLEUNIT'degree',0.0174532925199433,ID'EPSG',8821],PARAMETER['Longitude of false origin',-96,ANGLEUNIT'degree',0.0174532925199433,ID'EPSG',8822],PARAMETER['Latitude of 1st standard parallel',20,ANGLEUNIT'degree',0.0174532925199433,ID'EPSG',8823],PARAMETER['Latitude of 2nd standard parallel',60,ANGLEUNIT'degree',0.0174532925199433,ID'EPSG',8824],PARAMETER['Easting at false origin',0,LENGTHUNIT'metre',1,ID'EPSG',8826],PARAMETER['Northing at false origin',0,LENGTHUNIT'metre',1,ID'EPSG',8827]],CSCartesian,2,AXIS['easting',east,ORDER1,LENGTHUNIT'metre',1],AXIS['northing',north,ORDER2,LENGTHUNIT'metre',1],ID'ESRI',102008]\n"
     ]
    }
   ],
   "source": [
    "name, datum, units, cleaned_crs_string = get_projected_coordinate_system(gdf)\n",
    "print(name)\n",
    "print(datum)\n",
    "print(units)\n",
    "print(cleaned_crs_string)"
   ]
  },
  {
   "cell_type": "markdown",
   "id": "d7f58cc3-3321-4a92-9c88-6a032f40130f",
   "metadata": {},
   "source": [
    "Show the bounding box in the geographical coordinates"
   ]
  },
  {
   "cell_type": "code",
   "execution_count": 26,
   "id": "f65f46d9-2b09-402b-a437-96359cbcf0f4",
   "metadata": {},
   "outputs": [
    {
     "name": "stdout",
     "output_type": "stream",
     "text": [
      "('WGS 84 geodetic', 4326)\n"
     ]
    }
   ],
   "source": [
    "print(get_geographic_coordinate_system(gdf))"
   ]
  },
  {
   "cell_type": "code",
   "execution_count": 60,
   "id": "19d88366-b660-48e4-ac93-10afaae0b7f0",
   "metadata": {},
   "outputs": [
    {
     "name": "stdout",
     "output_type": "stream",
     "text": [
      "(41.70049003694901, -111.78438452093438, 42.102360645589236, -111.51208495002092)\n"
     ]
    }
   ],
   "source": [
    "from pyproj import Proj, transform\n",
    "\n",
    "bbox_projected = gdf.total_bounds\n",
    "\n",
    "# Define the projected coordinate system and the WGS84 coordinate system\n",
    "projected_crs = gdf.crs\n",
    "wgs84_crs = f\"EPSG:{get_geographic_coordinate_system(gdf)[1]}\"\n",
    "\n",
    "# Create transformation functions\n",
    "transformer = Transformer.from_crs(projected_crs, wgs84_crs)\n",
    "\n",
    "# Transform the bounding box points to lat/lon\n",
    "min_lon, min_lat = transformer.transform(bbox_projected[0], bbox_projected[1]) \n",
    "max_lon, max_lat = transformer.transform(bbox_projected[2], bbox_projected[3])\n",
    "\n",
    "bbox_lonlat = (min_lon, min_lat, max_lon, max_lat)\n",
    "print(bbox_lonlat)"
   ]
  }
 ],
 "metadata": {
  "kernelspec": {
   "display_name": "Python 3 (ipykernel)",
   "language": "python",
   "name": "python3"
  },
  "language_info": {
   "codemirror_mode": {
    "name": "ipython",
    "version": 3
   },
   "file_extension": ".py",
   "mimetype": "text/x-python",
   "name": "python",
   "nbconvert_exporter": "python",
   "pygments_lexer": "ipython3",
   "version": "3.9.7"
  }
 },
 "nbformat": 4,
 "nbformat_minor": 5
}
